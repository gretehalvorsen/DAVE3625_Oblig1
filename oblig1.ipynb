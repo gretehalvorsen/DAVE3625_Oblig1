{
 "cells": [
  {
   "cell_type": "code",
   "execution_count": null,
   "metadata": {},
   "outputs": [],
   "source": [
    "import numpy as np\n",
    "import pandas as pd\n",
    "import matplotlib.pyplot as plt\n",
    "from scipy import stats\n",
    "import seaborn as sns"
   ]
  },
  {
   "cell_type": "markdown",
   "metadata": {},
   "source": [
    "__Oppgave 1__ <br>\n",
    "<span style=\"color:gray\">*Read the CSV file in Pandas and create a DataFrame named Grc_df. What is the number of\n",
    "rows and columns in Grc_df? <br> Print the first 10 and last 10 rows of Grc_df.*</span><br><br>\n",
    "Answer: The number of rows are 5000 x 11 colums"
   ]
  },
  {
   "cell_type": "code",
   "execution_count": null,
   "metadata": {},
   "outputs": [],
   "source": [
    "#Reading the csv file and creating a DataFrame names Grc_df\n",
    "Grc_df = pd.read_csv('Grocery_dataset.csv', index_col=0)\n",
    "\n",
    "#Check number of rows and colums\n",
    "Grc_df.shape"
   ]
  },
  {
   "cell_type": "code",
   "execution_count": null,
   "metadata": {},
   "outputs": [],
   "source": [
    "#Printing the first 10 rows\n",
    "Grc_df.head(10)"
   ]
  },
  {
   "cell_type": "code",
   "execution_count": null,
   "metadata": {},
   "outputs": [],
   "source": [
    "#Printing the last 10 rows\n",
    "Grc_df.tail(10)"
   ]
  },
  {
   "cell_type": "markdown",
   "metadata": {},
   "source": [
    "__Oppgave 2__<br>\n",
    "<span style=\"color:gray\">*Are there any null values in the Grc_df? If yes, then in which columns and how many?\n",
    "Finally, handle these null values using any strategy shown during the labs.*</span><br><br>\n",
    "\n",
    "Answer: Grc_df.info() shows that there are 818 null values in Item_Weight and 1439 null values in Outlet_Size. We opted for imputation to handle missing values because eliminating a large number of rows would significantly reduce the size of our dataframe, potentially affecting the robustness of our subsequent analysis or model. We replace the Item_Weight with the mean. The benefit of using the mean is that it doesn't change the overall mean of the dataset. Since Outlet_Size is categorical, we can't compute a mean. However, using Sikt-KI chat's advice, we assessed category frequencies to handle missing values, maintaining the original distribution.\n"
   ]
  },
  {
   "cell_type": "code",
   "execution_count": null,
   "metadata": {},
   "outputs": [],
   "source": [
    "#Check is there are null values\n",
    "Grc_df.info()"
   ]
  },
  {
   "cell_type": "code",
   "execution_count": null,
   "metadata": {},
   "outputs": [],
   "source": [
    "#Check the number of null values\n",
    "Grc_df = Grc_df.replace(' ', np.nan)\n",
    "Grc_df.isna().sum()"
   ]
  },
  {
   "cell_type": "code",
   "execution_count": null,
   "metadata": {},
   "outputs": [],
   "source": [
    "#Finding the mean for Item_weight, skipping null values\n",
    "avgWeight = Grc_df['Item_Weight'].median()\n",
    "\n",
    "#Replacing null values of Item_weight with median\n",
    "Grc_df['Item_Weight'].fillna(avgWeight, inplace=True)"
   ]
  },
  {
   "cell_type": "code",
   "execution_count": null,
   "metadata": {},
   "outputs": [],
   "source": [
    "# Get the distribution of the non-null values\n",
    "dist = Grc_df['Outlet_Size'].value_counts(normalize=True)\n",
    "\n",
    "# Get a list of the categories\n",
    "categories = dist.index\n",
    "\n",
    "# Create a list to sample from, replicating the distribution\n",
    "fill_list = np.random.choice(categories, size=Grc_df['Outlet_Size'].isnull().sum(), p=dist.values)\n",
    "\n",
    "# Replace the NaN values in the DataFrame\n",
    "Grc_df.loc[Grc_df['Outlet_Size'].isnull(), 'Outlet_Size'] = fill_list"
   ]
  },
  {
   "cell_type": "markdown",
   "metadata": {},
   "source": [
    "__Oppgave 3__<br>\n",
    "<span style=\"color:gray\">*How many unique Outlet Sizes are there in the Grc_df? Which outlet size is maximum, and which is minimum?*</span><br><br>\n",
    "\n",
    "Answer: 3 (Medium, High, Small) <br>\n",
    "Max: Small  <br>\n",
    "Min: High"
   ]
  },
  {
   "cell_type": "code",
   "execution_count": null,
   "metadata": {},
   "outputs": [],
   "source": [
    "#Check for number of unique Outlet Sizes\n",
    "Grc_df.Outlet_Size.unique()"
   ]
  },
  {
   "cell_type": "code",
   "execution_count": null,
   "metadata": {},
   "outputs": [],
   "source": [
    "#Check for the most frequent(maximum) Outlet Size\n",
    "Grc_df.Outlet_Size.max()"
   ]
  },
  {
   "cell_type": "code",
   "execution_count": null,
   "metadata": {},
   "outputs": [],
   "source": [
    "#Check for the least frequent(minimum) Outlet Size\n",
    "Grc_df.Outlet_Size.min()"
   ]
  },
  {
   "cell_type": "markdown",
   "metadata": {},
   "source": [
    "__Oppgave 4__<br>\n",
    "<span style=\"color:gray\">*How many unique Item Fat Content types are in the Grc_df? List them. Do you see any\n",
    "issues with the Item Fat Content types? If yes, then handle this issue.*</span> <br><br>\n",
    "\n",
    "Answer: The labeling for 'Low Fat' and 'Regular' categories in the dataset lacks uniformity. Variations like 'low fat', 'LF', or 'reg' are used interchangeably. To maintain consistency in our data, we should standardize these labels to only 'Low Fat' and 'Regular'"
   ]
  },
  {
   "cell_type": "code",
   "execution_count": null,
   "metadata": {},
   "outputs": [],
   "source": [
    "Grc_df.Item_Fat_Content.unique()"
   ]
  },
  {
   "cell_type": "code",
   "execution_count": null,
   "metadata": {},
   "outputs": [],
   "source": [
    "# Create a dictionary of terms we want to replace\n",
    "replace_dict = {'low fat': 'Low Fat', 'LF': 'Low Fat', 'reg': 'Regular'}\n",
    "\n",
    "# Replace terms in the table according to replace_dict\n",
    "Grc_df['Item_Fat_Content'] = Grc_df['Item_Fat_Content'].replace(replace_dict)"
   ]
  },
  {
   "cell_type": "markdown",
   "metadata": {},
   "source": [
    "__Oppgave 5__<br>\n",
    "<span style=\"color:gray\">*Drop the columns having index values of 0, 6 and create a new DataFrame Grc_new_df.*</span>"
   ]
  },
  {
   "cell_type": "code",
   "execution_count": null,
   "metadata": {},
   "outputs": [],
   "source": [
    "# Get the column names to drop\n",
    "cols_to_drop = Grc_df.columns[[0, 6]]\n",
    "\n",
    "# Drop the columns and create a new DataFrame\n",
    "Grc_new_df = Grc_df.drop(cols_to_drop, axis=1)\n",
    "\n",
    "Grc_new_df"
   ]
  }
 ],
 "metadata": {
  "kernelspec": {
   "display_name": "dave3625",
   "language": "python",
   "name": "python3"
  },
  "language_info": {
   "codemirror_mode": {
    "name": "ipython",
    "version": 3
   },
   "file_extension": ".py",
   "mimetype": "text/x-python",
   "name": "python",
   "nbconvert_exporter": "python",
   "pygments_lexer": "ipython3",
   "version": "3.8.18"
  }
 },
 "nbformat": 4,
 "nbformat_minor": 2
}
