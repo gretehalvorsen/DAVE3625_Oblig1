{
 "cells": [
  {
   "cell_type": "code",
   "execution_count": 501,
   "metadata": {},
   "outputs": [],
   "source": [
    "import numpy as np\n",
    "import pandas as pd\n",
    "import matplotlib.pyplot as plt\n",
    "from scipy import stats\n",
    "import seaborn as sns"
   ]
  },
  {
   "cell_type": "markdown",
   "metadata": {},
   "source": [
    "__Oppgave 1__ <br>\n",
    "<span style=\"color:gray\">*Read the CSV file in Pandas and create a DataFrame named Grc_df. What is the number of\n",
    "rows and columns in Grc_df? <br> Print the first 10 and last 10 rows of Grc_df.*</span><br><br>\n",
    "Answer: The Grc_df DataFrame contains 5000 rows and 12 columns."
   ]
  },
  {
   "cell_type": "code",
   "execution_count": 502,
   "metadata": {},
   "outputs": [
    {
     "data": {
      "text/plain": [
       "(5000, 12)"
      ]
     },
     "execution_count": 502,
     "metadata": {},
     "output_type": "execute_result"
    }
   ],
   "source": [
    "#Reading the csv file and creating a DataFrame names Grc_df\n",
    "Grc_df = pd.read_csv('Grocery_dataset.csv')\n",
    "\n",
    "#Check number of rows and colums\n",
    "Grc_df.shape"
   ]
  },
  {
   "cell_type": "code",
   "execution_count": 503,
   "metadata": {},
   "outputs": [
    {
     "data": {
      "text/html": [
       "<div>\n",
       "<style scoped>\n",
       "    .dataframe tbody tr th:only-of-type {\n",
       "        vertical-align: middle;\n",
       "    }\n",
       "\n",
       "    .dataframe tbody tr th {\n",
       "        vertical-align: top;\n",
       "    }\n",
       "\n",
       "    .dataframe thead th {\n",
       "        text-align: right;\n",
       "    }\n",
       "</style>\n",
       "<table border=\"1\" class=\"dataframe\">\n",
       "  <thead>\n",
       "    <tr style=\"text-align: right;\">\n",
       "      <th></th>\n",
       "      <th>Item_Identifier</th>\n",
       "      <th>Item_Weight</th>\n",
       "      <th>Item_Fat_Content</th>\n",
       "      <th>Item_Visibility</th>\n",
       "      <th>Item_Type</th>\n",
       "      <th>Item_MRP</th>\n",
       "      <th>Outlet_Identifier</th>\n",
       "      <th>Outlet_Establishment_Year</th>\n",
       "      <th>Outlet_Size</th>\n",
       "      <th>Outlet_Location_Type</th>\n",
       "      <th>Outlet_Type</th>\n",
       "      <th>Item_Outlet_Sales</th>\n",
       "    </tr>\n",
       "  </thead>\n",
       "  <tbody>\n",
       "    <tr>\n",
       "      <th>0</th>\n",
       "      <td>FDA15</td>\n",
       "      <td>9.300</td>\n",
       "      <td>Low Fat</td>\n",
       "      <td>0.016047</td>\n",
       "      <td>Dairy</td>\n",
       "      <td>249.8092</td>\n",
       "      <td>OUT049</td>\n",
       "      <td>1999</td>\n",
       "      <td>Medium</td>\n",
       "      <td>Tier 1</td>\n",
       "      <td>Supermarket Type1</td>\n",
       "      <td>3735.1380</td>\n",
       "    </tr>\n",
       "    <tr>\n",
       "      <th>1</th>\n",
       "      <td>DRC01</td>\n",
       "      <td>5.920</td>\n",
       "      <td>Regular</td>\n",
       "      <td>0.019278</td>\n",
       "      <td>Soft Drinks</td>\n",
       "      <td>48.2692</td>\n",
       "      <td>OUT018</td>\n",
       "      <td>2009</td>\n",
       "      <td>Medium</td>\n",
       "      <td>Tier 3</td>\n",
       "      <td>Supermarket Type2</td>\n",
       "      <td>443.4228</td>\n",
       "    </tr>\n",
       "    <tr>\n",
       "      <th>2</th>\n",
       "      <td>FDN15</td>\n",
       "      <td>17.500</td>\n",
       "      <td>Low Fat</td>\n",
       "      <td>0.016760</td>\n",
       "      <td>Meat</td>\n",
       "      <td>141.6180</td>\n",
       "      <td>OUT049</td>\n",
       "      <td>1999</td>\n",
       "      <td>Medium</td>\n",
       "      <td>Tier 1</td>\n",
       "      <td>Supermarket Type1</td>\n",
       "      <td>2097.2700</td>\n",
       "    </tr>\n",
       "    <tr>\n",
       "      <th>3</th>\n",
       "      <td>FDX07</td>\n",
       "      <td>19.200</td>\n",
       "      <td>Regular</td>\n",
       "      <td>0.000000</td>\n",
       "      <td>Fruits and Vegetables</td>\n",
       "      <td>182.0950</td>\n",
       "      <td>OUT010</td>\n",
       "      <td>1998</td>\n",
       "      <td>NaN</td>\n",
       "      <td>Tier 3</td>\n",
       "      <td>Grocery Store</td>\n",
       "      <td>732.3800</td>\n",
       "    </tr>\n",
       "    <tr>\n",
       "      <th>4</th>\n",
       "      <td>NCD19</td>\n",
       "      <td>8.930</td>\n",
       "      <td>Low Fat</td>\n",
       "      <td>0.000000</td>\n",
       "      <td>Household</td>\n",
       "      <td>53.8614</td>\n",
       "      <td>OUT013</td>\n",
       "      <td>1987</td>\n",
       "      <td>High</td>\n",
       "      <td>Tier 3</td>\n",
       "      <td>Supermarket Type1</td>\n",
       "      <td>994.7052</td>\n",
       "    </tr>\n",
       "    <tr>\n",
       "      <th>5</th>\n",
       "      <td>FDP36</td>\n",
       "      <td>10.395</td>\n",
       "      <td>Regular</td>\n",
       "      <td>0.000000</td>\n",
       "      <td>Baking Goods</td>\n",
       "      <td>51.4008</td>\n",
       "      <td>OUT018</td>\n",
       "      <td>2009</td>\n",
       "      <td>Medium</td>\n",
       "      <td>Tier 3</td>\n",
       "      <td>Supermarket Type2</td>\n",
       "      <td>556.6088</td>\n",
       "    </tr>\n",
       "    <tr>\n",
       "      <th>6</th>\n",
       "      <td>FDO10</td>\n",
       "      <td>13.650</td>\n",
       "      <td>Regular</td>\n",
       "      <td>0.012741</td>\n",
       "      <td>Snack Foods</td>\n",
       "      <td>57.6588</td>\n",
       "      <td>OUT013</td>\n",
       "      <td>1987</td>\n",
       "      <td>High</td>\n",
       "      <td>Tier 3</td>\n",
       "      <td>Supermarket Type1</td>\n",
       "      <td>343.5528</td>\n",
       "    </tr>\n",
       "    <tr>\n",
       "      <th>7</th>\n",
       "      <td>FDP10</td>\n",
       "      <td>NaN</td>\n",
       "      <td>Low Fat</td>\n",
       "      <td>0.127470</td>\n",
       "      <td>Snack Foods</td>\n",
       "      <td>107.7622</td>\n",
       "      <td>OUT027</td>\n",
       "      <td>1985</td>\n",
       "      <td>Medium</td>\n",
       "      <td>Tier 3</td>\n",
       "      <td>Supermarket Type3</td>\n",
       "      <td>4022.7636</td>\n",
       "    </tr>\n",
       "    <tr>\n",
       "      <th>8</th>\n",
       "      <td>FDH17</td>\n",
       "      <td>16.200</td>\n",
       "      <td>Regular</td>\n",
       "      <td>0.016687</td>\n",
       "      <td>Frozen Foods</td>\n",
       "      <td>96.9726</td>\n",
       "      <td>OUT045</td>\n",
       "      <td>2002</td>\n",
       "      <td>NaN</td>\n",
       "      <td>Tier 2</td>\n",
       "      <td>Supermarket Type1</td>\n",
       "      <td>1076.5986</td>\n",
       "    </tr>\n",
       "    <tr>\n",
       "      <th>9</th>\n",
       "      <td>FDU28</td>\n",
       "      <td>19.200</td>\n",
       "      <td>Regular</td>\n",
       "      <td>0.094450</td>\n",
       "      <td>Frozen Foods</td>\n",
       "      <td>187.8214</td>\n",
       "      <td>OUT017</td>\n",
       "      <td>2007</td>\n",
       "      <td>NaN</td>\n",
       "      <td>Tier 2</td>\n",
       "      <td>Supermarket Type1</td>\n",
       "      <td>4710.5350</td>\n",
       "    </tr>\n",
       "  </tbody>\n",
       "</table>\n",
       "</div>"
      ],
      "text/plain": [
       "  Item_Identifier  Item_Weight Item_Fat_Content  Item_Visibility  \\\n",
       "0           FDA15        9.300          Low Fat         0.016047   \n",
       "1           DRC01        5.920          Regular         0.019278   \n",
       "2           FDN15       17.500          Low Fat         0.016760   \n",
       "3           FDX07       19.200          Regular         0.000000   \n",
       "4           NCD19        8.930          Low Fat         0.000000   \n",
       "5           FDP36       10.395          Regular         0.000000   \n",
       "6           FDO10       13.650          Regular         0.012741   \n",
       "7           FDP10          NaN          Low Fat         0.127470   \n",
       "8           FDH17       16.200          Regular         0.016687   \n",
       "9           FDU28       19.200          Regular         0.094450   \n",
       "\n",
       "               Item_Type  Item_MRP Outlet_Identifier  \\\n",
       "0                  Dairy  249.8092            OUT049   \n",
       "1            Soft Drinks   48.2692            OUT018   \n",
       "2                   Meat  141.6180            OUT049   \n",
       "3  Fruits and Vegetables  182.0950            OUT010   \n",
       "4              Household   53.8614            OUT013   \n",
       "5           Baking Goods   51.4008            OUT018   \n",
       "6            Snack Foods   57.6588            OUT013   \n",
       "7            Snack Foods  107.7622            OUT027   \n",
       "8           Frozen Foods   96.9726            OUT045   \n",
       "9           Frozen Foods  187.8214            OUT017   \n",
       "\n",
       "   Outlet_Establishment_Year Outlet_Size Outlet_Location_Type  \\\n",
       "0                       1999      Medium               Tier 1   \n",
       "1                       2009      Medium               Tier 3   \n",
       "2                       1999      Medium               Tier 1   \n",
       "3                       1998         NaN               Tier 3   \n",
       "4                       1987        High               Tier 3   \n",
       "5                       2009      Medium               Tier 3   \n",
       "6                       1987        High               Tier 3   \n",
       "7                       1985      Medium               Tier 3   \n",
       "8                       2002         NaN               Tier 2   \n",
       "9                       2007         NaN               Tier 2   \n",
       "\n",
       "         Outlet_Type  Item_Outlet_Sales  \n",
       "0  Supermarket Type1          3735.1380  \n",
       "1  Supermarket Type2           443.4228  \n",
       "2  Supermarket Type1          2097.2700  \n",
       "3      Grocery Store           732.3800  \n",
       "4  Supermarket Type1           994.7052  \n",
       "5  Supermarket Type2           556.6088  \n",
       "6  Supermarket Type1           343.5528  \n",
       "7  Supermarket Type3          4022.7636  \n",
       "8  Supermarket Type1          1076.5986  \n",
       "9  Supermarket Type1          4710.5350  "
      ]
     },
     "execution_count": 503,
     "metadata": {},
     "output_type": "execute_result"
    }
   ],
   "source": [
    "#Printing the first 10 rows\n",
    "Grc_df.head(10)"
   ]
  },
  {
   "cell_type": "code",
   "execution_count": 504,
   "metadata": {},
   "outputs": [
    {
     "data": {
      "text/html": [
       "<div>\n",
       "<style scoped>\n",
       "    .dataframe tbody tr th:only-of-type {\n",
       "        vertical-align: middle;\n",
       "    }\n",
       "\n",
       "    .dataframe tbody tr th {\n",
       "        vertical-align: top;\n",
       "    }\n",
       "\n",
       "    .dataframe thead th {\n",
       "        text-align: right;\n",
       "    }\n",
       "</style>\n",
       "<table border=\"1\" class=\"dataframe\">\n",
       "  <thead>\n",
       "    <tr style=\"text-align: right;\">\n",
       "      <th></th>\n",
       "      <th>Item_Identifier</th>\n",
       "      <th>Item_Weight</th>\n",
       "      <th>Item_Fat_Content</th>\n",
       "      <th>Item_Visibility</th>\n",
       "      <th>Item_Type</th>\n",
       "      <th>Item_MRP</th>\n",
       "      <th>Outlet_Identifier</th>\n",
       "      <th>Outlet_Establishment_Year</th>\n",
       "      <th>Outlet_Size</th>\n",
       "      <th>Outlet_Location_Type</th>\n",
       "      <th>Outlet_Type</th>\n",
       "      <th>Item_Outlet_Sales</th>\n",
       "    </tr>\n",
       "  </thead>\n",
       "  <tbody>\n",
       "    <tr>\n",
       "      <th>4990</th>\n",
       "      <td>FDE46</td>\n",
       "      <td>18.60</td>\n",
       "      <td>Low Fat</td>\n",
       "      <td>0.015859</td>\n",
       "      <td>Snack Foods</td>\n",
       "      <td>152.9366</td>\n",
       "      <td>OUT017</td>\n",
       "      <td>2007</td>\n",
       "      <td>NaN</td>\n",
       "      <td>Tier 2</td>\n",
       "      <td>Supermarket Type1</td>\n",
       "      <td>453.4098</td>\n",
       "    </tr>\n",
       "    <tr>\n",
       "      <th>4991</th>\n",
       "      <td>NCQ53</td>\n",
       "      <td>17.60</td>\n",
       "      <td>Low Fat</td>\n",
       "      <td>0.018905</td>\n",
       "      <td>Health and Hygiene</td>\n",
       "      <td>234.6590</td>\n",
       "      <td>OUT046</td>\n",
       "      <td>1997</td>\n",
       "      <td>Small</td>\n",
       "      <td>Tier 1</td>\n",
       "      <td>Supermarket Type1</td>\n",
       "      <td>8508.9240</td>\n",
       "    </tr>\n",
       "    <tr>\n",
       "      <th>4992</th>\n",
       "      <td>NCN42</td>\n",
       "      <td>20.25</td>\n",
       "      <td>Low Fat</td>\n",
       "      <td>0.014281</td>\n",
       "      <td>Household</td>\n",
       "      <td>148.0418</td>\n",
       "      <td>OUT018</td>\n",
       "      <td>2009</td>\n",
       "      <td>Medium</td>\n",
       "      <td>Tier 3</td>\n",
       "      <td>Supermarket Type2</td>\n",
       "      <td>1177.1344</td>\n",
       "    </tr>\n",
       "    <tr>\n",
       "      <th>4993</th>\n",
       "      <td>DRH11</td>\n",
       "      <td>5.98</td>\n",
       "      <td>Low Fat</td>\n",
       "      <td>0.075675</td>\n",
       "      <td>Hard Drinks</td>\n",
       "      <td>53.3614</td>\n",
       "      <td>OUT049</td>\n",
       "      <td>1999</td>\n",
       "      <td>Medium</td>\n",
       "      <td>Tier 1</td>\n",
       "      <td>Supermarket Type1</td>\n",
       "      <td>331.5684</td>\n",
       "    </tr>\n",
       "    <tr>\n",
       "      <th>4994</th>\n",
       "      <td>NCI42</td>\n",
       "      <td>18.75</td>\n",
       "      <td>Low Fat</td>\n",
       "      <td>0.010382</td>\n",
       "      <td>Household</td>\n",
       "      <td>207.8954</td>\n",
       "      <td>OUT049</td>\n",
       "      <td>1999</td>\n",
       "      <td>Medium</td>\n",
       "      <td>Tier 1</td>\n",
       "      <td>Supermarket Type1</td>\n",
       "      <td>2292.3494</td>\n",
       "    </tr>\n",
       "    <tr>\n",
       "      <th>4995</th>\n",
       "      <td>FDT07</td>\n",
       "      <td>5.82</td>\n",
       "      <td>Regular</td>\n",
       "      <td>0.077476</td>\n",
       "      <td>Fruits and Vegetables</td>\n",
       "      <td>255.3330</td>\n",
       "      <td>OUT045</td>\n",
       "      <td>2002</td>\n",
       "      <td>NaN</td>\n",
       "      <td>Tier 2</td>\n",
       "      <td>Supermarket Type1</td>\n",
       "      <td>4870.3270</td>\n",
       "    </tr>\n",
       "    <tr>\n",
       "      <th>4996</th>\n",
       "      <td>DRL60</td>\n",
       "      <td>8.52</td>\n",
       "      <td>Low Fat</td>\n",
       "      <td>0.027059</td>\n",
       "      <td>Soft Drinks</td>\n",
       "      <td>153.3682</td>\n",
       "      <td>OUT046</td>\n",
       "      <td>1997</td>\n",
       "      <td>Small</td>\n",
       "      <td>Tier 1</td>\n",
       "      <td>Supermarket Type1</td>\n",
       "      <td>914.8092</td>\n",
       "    </tr>\n",
       "    <tr>\n",
       "      <th>4997</th>\n",
       "      <td>FDG20</td>\n",
       "      <td>15.50</td>\n",
       "      <td>Regular</td>\n",
       "      <td>0.126200</td>\n",
       "      <td>Fruits and Vegetables</td>\n",
       "      <td>178.4028</td>\n",
       "      <td>OUT018</td>\n",
       "      <td>2009</td>\n",
       "      <td>Medium</td>\n",
       "      <td>Tier 3</td>\n",
       "      <td>Supermarket Type2</td>\n",
       "      <td>1239.7196</td>\n",
       "    </tr>\n",
       "    <tr>\n",
       "      <th>4998</th>\n",
       "      <td>FDF56</td>\n",
       "      <td>16.70</td>\n",
       "      <td>Regular</td>\n",
       "      <td>0.119462</td>\n",
       "      <td>Fruits and Vegetables</td>\n",
       "      <td>182.7976</td>\n",
       "      <td>OUT046</td>\n",
       "      <td>1997</td>\n",
       "      <td>Small</td>\n",
       "      <td>Tier 1</td>\n",
       "      <td>Supermarket Type1</td>\n",
       "      <td>1810.9760</td>\n",
       "    </tr>\n",
       "    <tr>\n",
       "      <th>4999</th>\n",
       "      <td>FDV33</td>\n",
       "      <td>9.60</td>\n",
       "      <td>Regular</td>\n",
       "      <td>0.027455</td>\n",
       "      <td>Snack Foods</td>\n",
       "      <td>258.1304</td>\n",
       "      <td>OUT018</td>\n",
       "      <td>2009</td>\n",
       "      <td>Medium</td>\n",
       "      <td>Tier 3</td>\n",
       "      <td>Supermarket Type2</td>\n",
       "      <td>2324.9736</td>\n",
       "    </tr>\n",
       "  </tbody>\n",
       "</table>\n",
       "</div>"
      ],
      "text/plain": [
       "     Item_Identifier  Item_Weight Item_Fat_Content  Item_Visibility  \\\n",
       "4990           FDE46        18.60          Low Fat         0.015859   \n",
       "4991           NCQ53        17.60          Low Fat         0.018905   \n",
       "4992           NCN42        20.25          Low Fat         0.014281   \n",
       "4993           DRH11         5.98          Low Fat         0.075675   \n",
       "4994           NCI42        18.75          Low Fat         0.010382   \n",
       "4995           FDT07         5.82          Regular         0.077476   \n",
       "4996           DRL60         8.52          Low Fat         0.027059   \n",
       "4997           FDG20        15.50          Regular         0.126200   \n",
       "4998           FDF56        16.70          Regular         0.119462   \n",
       "4999           FDV33         9.60          Regular         0.027455   \n",
       "\n",
       "                  Item_Type  Item_MRP Outlet_Identifier  \\\n",
       "4990            Snack Foods  152.9366            OUT017   \n",
       "4991     Health and Hygiene  234.6590            OUT046   \n",
       "4992              Household  148.0418            OUT018   \n",
       "4993            Hard Drinks   53.3614            OUT049   \n",
       "4994              Household  207.8954            OUT049   \n",
       "4995  Fruits and Vegetables  255.3330            OUT045   \n",
       "4996            Soft Drinks  153.3682            OUT046   \n",
       "4997  Fruits and Vegetables  178.4028            OUT018   \n",
       "4998  Fruits and Vegetables  182.7976            OUT046   \n",
       "4999            Snack Foods  258.1304            OUT018   \n",
       "\n",
       "      Outlet_Establishment_Year Outlet_Size Outlet_Location_Type  \\\n",
       "4990                       2007         NaN               Tier 2   \n",
       "4991                       1997       Small               Tier 1   \n",
       "4992                       2009      Medium               Tier 3   \n",
       "4993                       1999      Medium               Tier 1   \n",
       "4994                       1999      Medium               Tier 1   \n",
       "4995                       2002         NaN               Tier 2   \n",
       "4996                       1997       Small               Tier 1   \n",
       "4997                       2009      Medium               Tier 3   \n",
       "4998                       1997       Small               Tier 1   \n",
       "4999                       2009      Medium               Tier 3   \n",
       "\n",
       "            Outlet_Type  Item_Outlet_Sales  \n",
       "4990  Supermarket Type1           453.4098  \n",
       "4991  Supermarket Type1          8508.9240  \n",
       "4992  Supermarket Type2          1177.1344  \n",
       "4993  Supermarket Type1           331.5684  \n",
       "4994  Supermarket Type1          2292.3494  \n",
       "4995  Supermarket Type1          4870.3270  \n",
       "4996  Supermarket Type1           914.8092  \n",
       "4997  Supermarket Type2          1239.7196  \n",
       "4998  Supermarket Type1          1810.9760  \n",
       "4999  Supermarket Type2          2324.9736  "
      ]
     },
     "execution_count": 504,
     "metadata": {},
     "output_type": "execute_result"
    }
   ],
   "source": [
    "#Printing the last 10 rows\n",
    "Grc_df.tail(10)"
   ]
  },
  {
   "cell_type": "markdown",
   "metadata": {},
   "source": [
    "__Oppgave 2__<br>\n",
    "<span style=\"color:gray\">*Are there any null values in the Grc_df? If yes, then in which columns and how many?\n",
    "Finally, handle these null values using any strategy shown during the labs.*</span><br><br>\n",
    "\n",
    "Answer: Grc_df.info() shows that there are 818 null values in Item_Weight and 1439 null values in Outlet_Size. We opted for imputation to handle missing values because eliminating a large number of rows would significantly reduce the size of our dataframe, potentially affecting the robustness of our subsequent analysis or model. We replace the Item_Weight with the median. Since the data is slightly right-skewed, it would be better to use the median rather than the mean to fill any missing values in Item_Weight. The median will be more resistant to the influence of outliers, providing a better central value for the skewed distribution. Since Outlet_Size is categorical, we can't compute a mean or a median. However, using Sikt-KI chat's advice, we assessed category frequencies to handle missing values, maintaining the original distribution.\n"
   ]
  },
  {
   "cell_type": "code",
   "execution_count": 505,
   "metadata": {},
   "outputs": [
    {
     "name": "stdout",
     "output_type": "stream",
     "text": [
      "<class 'pandas.core.frame.DataFrame'>\n",
      "RangeIndex: 5000 entries, 0 to 4999\n",
      "Data columns (total 12 columns):\n",
      " #   Column                     Non-Null Count  Dtype  \n",
      "---  ------                     --------------  -----  \n",
      " 0   Item_Identifier            5000 non-null   object \n",
      " 1   Item_Weight                4182 non-null   float64\n",
      " 2   Item_Fat_Content           5000 non-null   object \n",
      " 3   Item_Visibility            5000 non-null   float64\n",
      " 4   Item_Type                  5000 non-null   object \n",
      " 5   Item_MRP                   5000 non-null   float64\n",
      " 6   Outlet_Identifier          5000 non-null   object \n",
      " 7   Outlet_Establishment_Year  5000 non-null   int64  \n",
      " 8   Outlet_Size                3561 non-null   object \n",
      " 9   Outlet_Location_Type       5000 non-null   object \n",
      " 10  Outlet_Type                5000 non-null   object \n",
      " 11  Item_Outlet_Sales          5000 non-null   float64\n",
      "dtypes: float64(4), int64(1), object(7)\n",
      "memory usage: 468.9+ KB\n"
     ]
    }
   ],
   "source": [
    "#Check is there are null values\n",
    "Grc_df.info()"
   ]
  },
  {
   "cell_type": "code",
   "execution_count": 506,
   "metadata": {},
   "outputs": [
    {
     "data": {
      "text/plain": [
       "Item_Identifier                 0\n",
       "Item_Weight                   818\n",
       "Item_Fat_Content                0\n",
       "Item_Visibility                 0\n",
       "Item_Type                       0\n",
       "Item_MRP                        0\n",
       "Outlet_Identifier               0\n",
       "Outlet_Establishment_Year       0\n",
       "Outlet_Size                  1439\n",
       "Outlet_Location_Type            0\n",
       "Outlet_Type                     0\n",
       "Item_Outlet_Sales               0\n",
       "dtype: int64"
      ]
     },
     "execution_count": 506,
     "metadata": {},
     "output_type": "execute_result"
    }
   ],
   "source": [
    "#Check the number of null values\n",
    "Grc_df = Grc_df.replace(' ', np.nan)\n",
    "Grc_df.isna().sum()"
   ]
  },
  {
   "cell_type": "code",
   "execution_count": 507,
   "metadata": {},
   "outputs": [
    {
     "data": {
      "image/png": "[encoded data removed]",
      "text/plain": [
       "<Figure size 640x480 with 1 Axes>"
      ]
     },
     "metadata": {},
     "output_type": "display_data"
    }
   ],
   "source": [
    "# Plot the histogram of 'Item_Weight' with 15 bins, density=True, and add a stacked appearance\n",
    "ax = Grc_df[\"Item_Weight\"].hist(bins=15, density=True, stacked=True, color='teal', alpha=0.6)\n",
    "\n",
    "# Plot the density plot for 'Item_Weight' on the same axis\n",
    "Grc_df[\"Item_Weight\"].plot(kind='density', color='teal')\n",
    "\n",
    "# Set the label for the x-axis\n",
    "ax.set(xlabel='Item_Weight')\n",
    "\n",
    "# Set the x-axis limits\n",
    "plt.xlim(-10,85)\n",
    "\n",
    "# Show the plot\n",
    "plt.show()"
   ]
  },
  {
   "cell_type": "code",
   "execution_count": 508,
   "metadata": {},
   "outputs": [
    {
     "name": "stdout",
     "output_type": "stream",
     "text": [
      "Mean of Item_Weight: 12.96\n",
      "Median of Item_Weight: 12.80\n"
     ]
    }
   ],
   "source": [
    "mean_Item_Weight = Grc_df[\"Item_Weight\"].mean() #Finding the mean Item_Weight\n",
    "median_Item_Weight = Grc_df[\"Item_Weight\"].median() #Finding the median Item_Weight\n",
    "\n",
    "#Not a large difference between the mean and median, but there is a skewed curve (will use the median)\n",
    "\n",
    "print(f'Mean of Item_Weight: {mean_Item_Weight:.2f}') #Printing the mean Item_Weight with two decimals\n",
    "print(f'Median of Item_Weight: {median_Item_Weight:.2f}') #Printing the median Item_Weight with two decimals"
   ]
  },
  {
   "cell_type": "code",
   "execution_count": 509,
   "metadata": {},
   "outputs": [],
   "source": [
    "#Replacing null values of Item_weight with median\n",
    "Grc_df['Item_Weight'].fillna(median_Item_Weight, inplace=True)"
   ]
  },
  {
   "cell_type": "code",
   "execution_count": 510,
   "metadata": {},
   "outputs": [
    {
     "data": {
      "image/png": "[encoded data removed]",
      "text/plain": [
       "<Figure size 640x480 with 1 Axes>"
      ]
     },
     "metadata": {},
     "output_type": "display_data"
    }
   ],
   "source": [
    "# Frequency plot of Outlet Size\n",
    "sns.countplot(x='Outlet_Size', data=Grc_df)\n",
    "\n",
    "\n",
    "plt.show()\n"
   ]
  },
  {
   "cell_type": "code",
   "execution_count": 511,
   "metadata": {},
   "outputs": [],
   "source": [
    "# Get the distribution of the non-null values\n",
    "dist = Grc_df['Outlet_Size'].value_counts(normalize=True)\n",
    "\n",
    "# Get a list of the categories\n",
    "categories = dist.index\n",
    "\n",
    "# Create a list to sample from, replicating the distribution\n",
    "fill_list = np.random.choice(categories, size=Grc_df['Outlet_Size'].isnull().sum(), p=dist.values)\n",
    "\n",
    "# Replace the NaN values in the DataFrame\n",
    "Grc_df.loc[Grc_df['Outlet_Size'].isnull(), 'Outlet_Size'] = fill_list"
   ]
  },
  {
   "cell_type": "code",
   "execution_count": 512,
   "metadata": {},
   "outputs": [
    {
     "data": {
      "text/plain": [
       "Item_Identifier              0\n",
       "Item_Weight                  0\n",
       "Item_Fat_Content             0\n",
       "Item_Visibility              0\n",
       "Item_Type                    0\n",
       "Item_MRP                     0\n",
       "Outlet_Identifier            0\n",
       "Outlet_Establishment_Year    0\n",
       "Outlet_Size                  0\n",
       "Outlet_Location_Type         0\n",
       "Outlet_Type                  0\n",
       "Item_Outlet_Sales            0\n",
       "dtype: int64"
      ]
     },
     "execution_count": 512,
     "metadata": {},
     "output_type": "execute_result"
    }
   ],
   "source": [
    "# Making sure there are no null values left\n",
    "Grc_df.isna().sum() "
   ]
  },
  {
   "cell_type": "markdown",
   "metadata": {},
   "source": [
    "__Oppgave 3__<br>\n",
    "<span style=\"color:gray\">*How many unique Outlet Sizes are there in the Grc_df? Which outlet size is maximum, and which is minimum?*</span><br><br>\n",
    "\n",
    "Answer: 3 (Medium, High, Small) <br>\n",
    "Max: Medium  <br>\n",
    "Min: High"
   ]
  },
  {
   "cell_type": "code",
   "execution_count": 513,
   "metadata": {},
   "outputs": [
    {
     "data": {
      "text/plain": [
       "3"
      ]
     },
     "execution_count": 513,
     "metadata": {},
     "output_type": "execute_result"
    }
   ],
   "source": [
    "#Count the number of unique Outlet Sizes\n",
    "Grc_df.Outlet_Size.nunique()"
   ]
  },
  {
   "cell_type": "code",
   "execution_count": 514,
   "metadata": {},
   "outputs": [
    {
     "name": "stdout",
     "output_type": "stream",
     "text": [
      "The outlet size count is:  Outlet_Size\n",
      "Medium    2222\n",
      "Small     1988\n",
      "High       790\n",
      "Name: count, dtype: int64\n"
     ]
    }
   ],
   "source": [
    "# Display the count of each Outlet_Size category\n",
    "outlet_size_counts = Grc_df['Outlet_Size'].value_counts()\n",
    "print(f'The outlet size count is: ', outlet_size_counts)"
   ]
  },
  {
   "cell_type": "code",
   "execution_count": 515,
   "metadata": {},
   "outputs": [
    {
     "data": {
      "text/plain": [
       "'Medium'"
      ]
     },
     "execution_count": 515,
     "metadata": {},
     "output_type": "execute_result"
    }
   ],
   "source": [
    "# Finding the most frequent(maximum) Outlet Size\n",
    "Grc_df['Outlet_Size'].value_counts().idxmax()"
   ]
  },
  {
   "cell_type": "code",
   "execution_count": 516,
   "metadata": {},
   "outputs": [
    {
     "data": {
      "text/plain": [
       "'High'"
      ]
     },
     "execution_count": 516,
     "metadata": {},
     "output_type": "execute_result"
    }
   ],
   "source": [
    "# Finding the least frequent(minimum) Outlet Size\n",
    "Grc_df['Outlet_Size'].value_counts().idxmin()"
   ]
  },
  {
   "cell_type": "markdown",
   "metadata": {},
   "source": [
    "__Oppgave 4__<br>\n",
    "<span style=\"color:gray\">*How many unique Item Fat Content types are in the Grc_df? List them. Do you see any\n",
    "issues with the Item Fat Content types? If yes, then handle this issue.*</span> <br><br>\n",
    "\n",
    "Answer: The labeling for 'Low Fat' and 'Regular' categories in the dataset lacks uniformity. Variations like 'low fat', 'LF', or 'reg' are used interchangeably. To maintain consistency in our data, we should standardize these labels to only 'Low Fat' and 'Regular'"
   ]
  },
  {
   "cell_type": "code",
   "execution_count": 517,
   "metadata": {},
   "outputs": [
    {
     "data": {
      "text/plain": [
       "5"
      ]
     },
     "execution_count": 517,
     "metadata": {},
     "output_type": "execute_result"
    }
   ],
   "source": [
    "# Count the number of unique Outlet Size values\n",
    "Grc_df.Item_Fat_Content.nunique()"
   ]
  },
  {
   "cell_type": "code",
   "execution_count": 518,
   "metadata": {},
   "outputs": [
    {
     "data": {
      "text/plain": [
       "Item_Fat_Content\n",
       "Low Fat    3008\n",
       "Regular    1679\n",
       "LF          183\n",
       "reg          68\n",
       "low fat      62\n",
       "Name: count, dtype: int64"
      ]
     },
     "execution_count": 518,
     "metadata": {},
     "output_type": "execute_result"
    }
   ],
   "source": [
    "# Display the count of each Outlet_Size category\n",
    "Grc_df['Item_Fat_Content'].value_counts()\n"
   ]
  },
  {
   "cell_type": "code",
   "execution_count": 519,
   "metadata": {},
   "outputs": [],
   "source": [
    "# Create a dictionary of terms we want to replace\n",
    "replace_dict = {'low fat': 'Low Fat', 'LF': 'Low Fat', 'reg': 'Regular'}\n",
    "\n",
    "# Replace terms in the table according to replace_dict\n",
    "Grc_df['Item_Fat_Content'] = Grc_df['Item_Fat_Content'].replace(replace_dict)"
   ]
  },
  {
   "cell_type": "markdown",
   "metadata": {},
   "source": [
    "__Oppgave 5__<br>\n",
    "<span style=\"color:gray\">*Drop the columns having index values of 0, 6 and create a new DataFrame Grc_new_df.*</span>"
   ]
  },
  {
   "cell_type": "code",
   "execution_count": 520,
   "metadata": {},
   "outputs": [
    {
     "data": {
      "text/plain": [
       "Index(['Item_Identifier', 'Item_Weight', 'Item_Fat_Content', 'Item_Visibility',\n",
       "       'Item_Type', 'Item_MRP', 'Outlet_Identifier',\n",
       "       'Outlet_Establishment_Year', 'Outlet_Size', 'Outlet_Location_Type',\n",
       "       'Outlet_Type', 'Item_Outlet_Sales'],\n",
       "      dtype='object')"
      ]
     },
     "execution_count": 520,
     "metadata": {},
     "output_type": "execute_result"
    }
   ],
   "source": [
    "# Listing the columns in the Grc_df DataFrame\n",
    "Grc_df.columns"
   ]
  },
  {
   "cell_type": "code",
   "execution_count": 521,
   "metadata": {},
   "outputs": [],
   "source": [
    "# Get the column names to drop\n",
    "cols_to_drop = Grc_df.columns[[0, 6]]\n",
    "\n",
    "# Drop the columns and create a new DataFrame\n",
    "Grc_new_df = Grc_df.drop(cols_to_drop, axis=1)"
   ]
  },
  {
   "cell_type": "code",
   "execution_count": 522,
   "metadata": {},
   "outputs": [
    {
     "data": {
      "text/plain": [
       "Index(['Item_Weight', 'Item_Fat_Content', 'Item_Visibility', 'Item_Type',\n",
       "       'Item_MRP', 'Outlet_Establishment_Year', 'Outlet_Size',\n",
       "       'Outlet_Location_Type', 'Outlet_Type', 'Item_Outlet_Sales'],\n",
       "      dtype='object')"
      ]
     },
     "execution_count": 522,
     "metadata": {},
     "output_type": "execute_result"
    }
   ],
   "source": [
    "# Checking if the columns were deleted from the new DataFrame\n",
    "Grc_new_df.columns"
   ]
  },
  {
   "cell_type": "markdown",
   "metadata": {},
   "source": [
    "__Oppgave 6__<br><br>\n",
    "<span style=\"color:gray\">*Using different Supermarket type listed in the column Outlet_Type create two different\n",
    "DataFrames from Grc_new_df. <br> Name these DataFrames as SupType_1 and SupType_2.*</span>"
   ]
  },
  {
   "cell_type": "code",
   "execution_count": 523,
   "metadata": {},
   "outputs": [
    {
     "data": {
      "text/plain": [
       "Outlet_Type\n",
       "Supermarket Type1    3328\n",
       "Grocery Store         608\n",
       "Supermarket Type3     538\n",
       "Supermarket Type2     526\n",
       "Name: count, dtype: int64"
      ]
     },
     "execution_count": 523,
     "metadata": {},
     "output_type": "execute_result"
    }
   ],
   "source": [
    "# Listing the Outlet Types and their counts\n",
    "Grc_new_df[\"Outlet_Type\"].value_counts()"
   ]
  },
  {
   "cell_type": "code",
   "execution_count": 524,
   "metadata": {},
   "outputs": [
    {
     "name": "stdout",
     "output_type": "stream",
     "text": [
      "Outlet_Type\n",
      "Supermarket Type1    3328\n",
      "Name: count, dtype: int64\n",
      "\n",
      "\n",
      "Outlet_Type\n",
      "Supermarket Type2    526\n",
      "Name: count, dtype: int64\n"
     ]
    }
   ],
   "source": [
    "SupType_1 = Grc_new_df.loc[Grc_new_df['Outlet_Type'] == 'Supermarket Type1']\n",
    "SupType_2 = Grc_new_df.loc[Grc_new_df['Outlet_Type'] == 'Supermarket Type2']\n",
    "\n",
    "print(f\"{SupType_1['Outlet_Type'].value_counts()}\")\n",
    "print(\"\\n\")\n",
    "print(f\"{SupType_2['Outlet_Type'].value_counts()}\")"
   ]
  },
  {
   "cell_type": "markdown",
   "metadata": {},
   "source": [
    "__Oppgave 7__<br><br>\n",
    "<span style=\"color:gray\">*Using Seaborn (“ggplot style”) create a (2,1) subplot of a box plot showing 5-point \n",
    "summary of the column Item_MRP for SupType_1 and SupType_2. <br>Which Outlet Type has \n",
    "a higher median MRP? Are there any outliers?*</span><br><br>\n",
    "\n",
    "Answer: Supermarked Type 1 has a higher median (144.75) than Supermarked Type 2 (130.18).<br><br>\n",
    "There do not appear to be any obvious outliers in either boxplot, as no points are plotted outside the whiskers indicating significantly higher or lower values than the rest of the data."
   ]
  },
  {
   "cell_type": "code",
   "execution_count": 525,
   "metadata": {},
   "outputs": [
    {
     "data": {
      "image/png": "[encoded data removed]",
      "text/plain": [
       "<Figure size 640x480 with 2 Axes>"
      ]
     },
     "metadata": {},
     "output_type": "display_data"
    }
   ],
   "source": [
    "# Set the style to ggplot\n",
    "plt.style.use('ggplot')\n",
    "\n",
    "# Create a subplot with 2 rows and 1 column\n",
    "fig, axes = plt.subplots(2, 1)\n",
    "\n",
    "# Create a boxplot for SupType_1\n",
    "sns.boxplot(ax=axes[0], x='Item_MRP', data=SupType_1)\n",
    "axes[0].set_title('Supermarket Type1')\n",
    "\n",
    "# Create a boxplot for SupType_2\n",
    "sns.boxplot(ax=axes[1], x='Item_MRP', data=SupType_2)\n",
    "axes[1].set_title('Supermarket Type2')\n",
    "\n",
    "# Display the plot\n",
    "plt.tight_layout()\n",
    "plt.show()"
   ]
  },
  {
   "cell_type": "code",
   "execution_count": 526,
   "metadata": {},
   "outputs": [
    {
     "name": "stdout",
     "output_type": "stream",
     "text": [
      "Median MRP for Supermarket 1 is 144.75\n",
      "Median MRP for Supermarket 2 is 130.18\n"
     ]
    }
   ],
   "source": [
    "\n",
    "print(f\"Median MRP for Supermarket 1 is {SupType_1['Item_MRP'].median():.2f}\")\n",
    "print(f\"Median MRP for Supermarket 2 is {SupType_2['Item_MRP'].median():.2f}\")"
   ]
  },
  {
   "cell_type": "markdown",
   "metadata": {},
   "source": [
    "__Oppgave 8__<br><br>\n",
    "<span style=\"color:gray\">*Concatenate the DataFrames SupType_1 and SupType_2 to create a new DataFrame \n",
    "Grc_Concat_df and sort it in ascending order based on the column Item_Outlet_Sales. \n",
    "What is the Outlet_Location_type of the store with the lowest sales?*</span><br><br>\n",
    "\n",
    "Answer:\n",
    "Tier 3 is the Outlet Location Type with the lowest sales.  "
   ]
  },
  {
   "cell_type": "code",
   "execution_count": 527,
   "metadata": {},
   "outputs": [
    {
     "data": {
      "text/html": [
       "<div>\n",
       "<style scoped>\n",
       "    .dataframe tbody tr th:only-of-type {\n",
       "        vertical-align: middle;\n",
       "    }\n",
       "\n",
       "    .dataframe tbody tr th {\n",
       "        vertical-align: top;\n",
       "    }\n",
       "\n",
       "    .dataframe thead th {\n",
       "        text-align: right;\n",
       "    }\n",
       "</style>\n",
       "<table border=\"1\" class=\"dataframe\">\n",
       "  <thead>\n",
       "    <tr style=\"text-align: right;\">\n",
       "      <th></th>\n",
       "      <th>Item_Weight</th>\n",
       "      <th>Item_Fat_Content</th>\n",
       "      <th>Item_Visibility</th>\n",
       "      <th>Item_Type</th>\n",
       "      <th>Item_MRP</th>\n",
       "      <th>Outlet_Establishment_Year</th>\n",
       "      <th>Outlet_Size</th>\n",
       "      <th>Outlet_Location_Type</th>\n",
       "      <th>Outlet_Type</th>\n",
       "      <th>Item_Outlet_Sales</th>\n",
       "    </tr>\n",
       "  </thead>\n",
       "  <tbody>\n",
       "    <tr>\n",
       "      <th>2370</th>\n",
       "      <td>20.500</td>\n",
       "      <td>Low Fat</td>\n",
       "      <td>0.143164</td>\n",
       "      <td>Household</td>\n",
       "      <td>34.9190</td>\n",
       "      <td>1987</td>\n",
       "      <td>High</td>\n",
       "      <td>Tier 3</td>\n",
       "      <td>Supermarket Type1</td>\n",
       "      <td>73.2380</td>\n",
       "    </tr>\n",
       "    <tr>\n",
       "      <th>1657</th>\n",
       "      <td>6.635</td>\n",
       "      <td>Regular</td>\n",
       "      <td>0.046278</td>\n",
       "      <td>Frozen Foods</td>\n",
       "      <td>36.7506</td>\n",
       "      <td>2009</td>\n",
       "      <td>Medium</td>\n",
       "      <td>Tier 3</td>\n",
       "      <td>Supermarket Type2</td>\n",
       "      <td>75.9012</td>\n",
       "    </tr>\n",
       "    <tr>\n",
       "      <th>1543</th>\n",
       "      <td>6.320</td>\n",
       "      <td>Low Fat</td>\n",
       "      <td>0.012770</td>\n",
       "      <td>Meat</td>\n",
       "      <td>39.9822</td>\n",
       "      <td>2009</td>\n",
       "      <td>Medium</td>\n",
       "      <td>Tier 3</td>\n",
       "      <td>Supermarket Type2</td>\n",
       "      <td>78.5644</td>\n",
       "    </tr>\n",
       "    <tr>\n",
       "      <th>3586</th>\n",
       "      <td>9.105</td>\n",
       "      <td>Low Fat</td>\n",
       "      <td>0.038560</td>\n",
       "      <td>Household</td>\n",
       "      <td>33.8900</td>\n",
       "      <td>2002</td>\n",
       "      <td>Small</td>\n",
       "      <td>Tier 2</td>\n",
       "      <td>Supermarket Type1</td>\n",
       "      <td>99.8700</td>\n",
       "    </tr>\n",
       "    <tr>\n",
       "      <th>2711</th>\n",
       "      <td>19.250</td>\n",
       "      <td>Low Fat</td>\n",
       "      <td>0.108030</td>\n",
       "      <td>Household</td>\n",
       "      <td>32.4558</td>\n",
       "      <td>1997</td>\n",
       "      <td>Small</td>\n",
       "      <td>Tier 1</td>\n",
       "      <td>Supermarket Type1</td>\n",
       "      <td>101.8674</td>\n",
       "    </tr>\n",
       "  </tbody>\n",
       "</table>\n",
       "</div>"
      ],
      "text/plain": [
       "      Item_Weight Item_Fat_Content  Item_Visibility     Item_Type  Item_MRP  \\\n",
       "2370       20.500          Low Fat         0.143164     Household   34.9190   \n",
       "1657        6.635          Regular         0.046278  Frozen Foods   36.7506   \n",
       "1543        6.320          Low Fat         0.012770          Meat   39.9822   \n",
       "3586        9.105          Low Fat         0.038560     Household   33.8900   \n",
       "2711       19.250          Low Fat         0.108030     Household   32.4558   \n",
       "\n",
       "      Outlet_Establishment_Year Outlet_Size Outlet_Location_Type  \\\n",
       "2370                       1987        High               Tier 3   \n",
       "1657                       2009      Medium               Tier 3   \n",
       "1543                       2009      Medium               Tier 3   \n",
       "3586                       2002       Small               Tier 2   \n",
       "2711                       1997       Small               Tier 1   \n",
       "\n",
       "            Outlet_Type  Item_Outlet_Sales  \n",
       "2370  Supermarket Type1            73.2380  \n",
       "1657  Supermarket Type2            75.9012  \n",
       "1543  Supermarket Type2            78.5644  \n",
       "3586  Supermarket Type1            99.8700  \n",
       "2711  Supermarket Type1           101.8674  "
      ]
     },
     "execution_count": 527,
     "metadata": {},
     "output_type": "execute_result"
    }
   ],
   "source": [
    "# Concatenate the DataFrames\n",
    "Grc_Concat_df = pd.concat([SupType_1, SupType_2])\n",
    "\n",
    "# Sort the DataFrame\n",
    "Grc_Concat_df = Grc_Concat_df.sort_values('Item_Outlet_Sales')\n",
    "\n",
    "Grc_Concat_df.head()\n",
    "\n"
   ]
  },
  {
   "cell_type": "markdown",
   "metadata": {},
   "source": [
    "__Oppgave 9__<br><br>\n",
    "<span style=\"color:gray\">*Using columns Outlet_Size and Outlet_Location_Type to create a multiple index for \n",
    "Grc_Concat_df.*</span>"
   ]
  },
  {
   "cell_type": "code",
   "execution_count": 528,
   "metadata": {},
   "outputs": [
    {
     "data": {
      "text/html": [
       "<div>\n",
       "<style scoped>\n",
       "    .dataframe tbody tr th:only-of-type {\n",
       "        vertical-align: middle;\n",
       "    }\n",
       "\n",
       "    .dataframe tbody tr th {\n",
       "        vertical-align: top;\n",
       "    }\n",
       "\n",
       "    .dataframe thead th {\n",
       "        text-align: right;\n",
       "    }\n",
       "</style>\n",
       "<table border=\"1\" class=\"dataframe\">\n",
       "  <thead>\n",
       "    <tr style=\"text-align: right;\">\n",
       "      <th></th>\n",
       "      <th></th>\n",
       "      <th>Item_Weight</th>\n",
       "      <th>Item_Fat_Content</th>\n",
       "      <th>Item_Visibility</th>\n",
       "      <th>Item_Type</th>\n",
       "      <th>Item_MRP</th>\n",
       "      <th>Outlet_Establishment_Year</th>\n",
       "      <th>Outlet_Type</th>\n",
       "      <th>Item_Outlet_Sales</th>\n",
       "    </tr>\n",
       "    <tr>\n",
       "      <th>Outlet_Size</th>\n",
       "      <th>Outlet_Location_Type</th>\n",
       "      <th></th>\n",
       "      <th></th>\n",
       "      <th></th>\n",
       "      <th></th>\n",
       "      <th></th>\n",
       "      <th></th>\n",
       "      <th></th>\n",
       "      <th></th>\n",
       "    </tr>\n",
       "  </thead>\n",
       "  <tbody>\n",
       "    <tr>\n",
       "      <th>Small</th>\n",
       "      <th>Tier 1</th>\n",
       "      <td>11.10</td>\n",
       "      <td>Regular</td>\n",
       "      <td>0.036028</td>\n",
       "      <td>Frozen Foods</td>\n",
       "      <td>177.2712</td>\n",
       "      <td>1997</td>\n",
       "      <td>Supermarket Type1</td>\n",
       "      <td>3339.6528</td>\n",
       "    </tr>\n",
       "    <tr>\n",
       "      <th>Medium</th>\n",
       "      <th>Tier 1</th>\n",
       "      <td>12.65</td>\n",
       "      <td>Low Fat</td>\n",
       "      <td>0.042277</td>\n",
       "      <td>Household</td>\n",
       "      <td>108.4938</td>\n",
       "      <td>1999</td>\n",
       "      <td>Supermarket Type1</td>\n",
       "      <td>1500.7132</td>\n",
       "    </tr>\n",
       "    <tr>\n",
       "      <th rowspan=\"5\" valign=\"top\">Small</th>\n",
       "      <th>Tier 2</th>\n",
       "      <td>13.35</td>\n",
       "      <td>Low Fat</td>\n",
       "      <td>0.017821</td>\n",
       "      <td>Dairy</td>\n",
       "      <td>75.1012</td>\n",
       "      <td>2002</td>\n",
       "      <td>Supermarket Type1</td>\n",
       "      <td>1366.2216</td>\n",
       "    </tr>\n",
       "    <tr>\n",
       "      <th>Tier 2</th>\n",
       "      <td>12.60</td>\n",
       "      <td>Low Fat</td>\n",
       "      <td>0.024190</td>\n",
       "      <td>Dairy</td>\n",
       "      <td>34.4874</td>\n",
       "      <td>2004</td>\n",
       "      <td>Supermarket Type1</td>\n",
       "      <td>494.0236</td>\n",
       "    </tr>\n",
       "    <tr>\n",
       "      <th>Tier 2</th>\n",
       "      <td>6.32</td>\n",
       "      <td>Low Fat</td>\n",
       "      <td>0.000000</td>\n",
       "      <td>Meat</td>\n",
       "      <td>40.2822</td>\n",
       "      <td>2004</td>\n",
       "      <td>Supermarket Type1</td>\n",
       "      <td>1139.1838</td>\n",
       "    </tr>\n",
       "    <tr>\n",
       "      <th>Tier 1</th>\n",
       "      <td>8.60</td>\n",
       "      <td>Low Fat</td>\n",
       "      <td>0.032622</td>\n",
       "      <td>Health and Hygiene</td>\n",
       "      <td>143.2154</td>\n",
       "      <td>1997</td>\n",
       "      <td>Supermarket Type1</td>\n",
       "      <td>2127.2310</td>\n",
       "    </tr>\n",
       "    <tr>\n",
       "      <th>Tier 2</th>\n",
       "      <td>6.85</td>\n",
       "      <td>Low Fat</td>\n",
       "      <td>0.022879</td>\n",
       "      <td>Frozen Foods</td>\n",
       "      <td>262.3594</td>\n",
       "      <td>2004</td>\n",
       "      <td>Supermarket Type1</td>\n",
       "      <td>3924.8910</td>\n",
       "    </tr>\n",
       "    <tr>\n",
       "      <th>High</th>\n",
       "      <th>Tier 2</th>\n",
       "      <td>13.35</td>\n",
       "      <td>Low Fat</td>\n",
       "      <td>0.038745</td>\n",
       "      <td>Snack Foods</td>\n",
       "      <td>239.3564</td>\n",
       "      <td>2007</td>\n",
       "      <td>Supermarket Type1</td>\n",
       "      <td>3098.6332</td>\n",
       "    </tr>\n",
       "    <tr>\n",
       "      <th rowspan=\"2\" valign=\"top\">Small</th>\n",
       "      <th>Tier 2</th>\n",
       "      <td>10.65</td>\n",
       "      <td>Low Fat</td>\n",
       "      <td>0.000000</td>\n",
       "      <td>Fruits and Vegetables</td>\n",
       "      <td>57.1272</td>\n",
       "      <td>2004</td>\n",
       "      <td>Supermarket Type1</td>\n",
       "      <td>279.6360</td>\n",
       "    </tr>\n",
       "    <tr>\n",
       "      <th>Tier 2</th>\n",
       "      <td>15.85</td>\n",
       "      <td>Low Fat</td>\n",
       "      <td>0.069241</td>\n",
       "      <td>Breads</td>\n",
       "      <td>217.5166</td>\n",
       "      <td>2002</td>\n",
       "      <td>Supermarket Type1</td>\n",
       "      <td>653.1498</td>\n",
       "    </tr>\n",
       "  </tbody>\n",
       "</table>\n",
       "</div>"
      ],
      "text/plain": [
       "                                  Item_Weight Item_Fat_Content  \\\n",
       "Outlet_Size Outlet_Location_Type                                 \n",
       "Small       Tier 1                      11.10          Regular   \n",
       "Medium      Tier 1                      12.65          Low Fat   \n",
       "Small       Tier 2                      13.35          Low Fat   \n",
       "            Tier 2                      12.60          Low Fat   \n",
       "            Tier 2                       6.32          Low Fat   \n",
       "            Tier 1                       8.60          Low Fat   \n",
       "            Tier 2                       6.85          Low Fat   \n",
       "High        Tier 2                      13.35          Low Fat   \n",
       "Small       Tier 2                      10.65          Low Fat   \n",
       "            Tier 2                      15.85          Low Fat   \n",
       "\n",
       "                                  Item_Visibility              Item_Type  \\\n",
       "Outlet_Size Outlet_Location_Type                                           \n",
       "Small       Tier 1                       0.036028           Frozen Foods   \n",
       "Medium      Tier 1                       0.042277              Household   \n",
       "Small       Tier 2                       0.017821                  Dairy   \n",
       "            Tier 2                       0.024190                  Dairy   \n",
       "            Tier 2                       0.000000                   Meat   \n",
       "            Tier 1                       0.032622     Health and Hygiene   \n",
       "            Tier 2                       0.022879           Frozen Foods   \n",
       "High        Tier 2                       0.038745            Snack Foods   \n",
       "Small       Tier 2                       0.000000  Fruits and Vegetables   \n",
       "            Tier 2                       0.069241                 Breads   \n",
       "\n",
       "                                  Item_MRP  Outlet_Establishment_Year  \\\n",
       "Outlet_Size Outlet_Location_Type                                        \n",
       "Small       Tier 1                177.2712                       1997   \n",
       "Medium      Tier 1                108.4938                       1999   \n",
       "Small       Tier 2                 75.1012                       2002   \n",
       "            Tier 2                 34.4874                       2004   \n",
       "            Tier 2                 40.2822                       2004   \n",
       "            Tier 1                143.2154                       1997   \n",
       "            Tier 2                262.3594                       2004   \n",
       "High        Tier 2                239.3564                       2007   \n",
       "Small       Tier 2                 57.1272                       2004   \n",
       "            Tier 2                217.5166                       2002   \n",
       "\n",
       "                                        Outlet_Type  Item_Outlet_Sales  \n",
       "Outlet_Size Outlet_Location_Type                                        \n",
       "Small       Tier 1                Supermarket Type1          3339.6528  \n",
       "Medium      Tier 1                Supermarket Type1          1500.7132  \n",
       "Small       Tier 2                Supermarket Type1          1366.2216  \n",
       "            Tier 2                Supermarket Type1           494.0236  \n",
       "            Tier 2                Supermarket Type1          1139.1838  \n",
       "            Tier 1                Supermarket Type1          2127.2310  \n",
       "            Tier 2                Supermarket Type1          3924.8910  \n",
       "High        Tier 2                Supermarket Type1          3098.6332  \n",
       "Small       Tier 2                Supermarket Type1           279.6360  \n",
       "            Tier 2                Supermarket Type1           653.1498  "
      ]
     },
     "execution_count": 528,
     "metadata": {},
     "output_type": "execute_result"
    }
   ],
   "source": [
    "# Set multiple index\n",
    "Grc_Concat_df.set_index(['Outlet_Size', 'Outlet_Location_Type'], inplace=True)\n",
    "\n",
    "# Printing a sample of the table with multiple index\n",
    "Grc_Concat_df.sample(10)"
   ]
  },
  {
   "cell_type": "markdown",
   "metadata": {},
   "source": [
    "__Oppgave 10__<br><br>\n",
    "<span style=\"color:gray\">*Cut the column Item_Weight of Grc_Concat_df into 10 buckets and compute each bucket's \n",
    "mean, minimum, maximum, and count.*</span>"
   ]
  },
  {
   "cell_type": "code",
   "execution_count": 529,
   "metadata": {},
   "outputs": [
    {
     "data": {
      "text/plain": [
       "Index(['Item_Weight', 'Item_Fat_Content', 'Item_Visibility', 'Item_Type',\n",
       "       'Item_MRP', 'Outlet_Establishment_Year', 'Outlet_Type',\n",
       "       'Item_Outlet_Sales'],\n",
       "      dtype='object')"
      ]
     },
     "execution_count": 529,
     "metadata": {},
     "output_type": "execute_result"
    }
   ],
   "source": [
    "Grc_Concat_df.columns"
   ]
  },
  {
   "cell_type": "code",
   "execution_count": 530,
   "metadata": {},
   "outputs": [
    {
     "name": "stdout",
     "output_type": "stream",
     "text": [
      "                       mean     min     max  count\n",
      "Buckets                                           \n",
      "(4.538, 6.234]     5.623814   4.555   6.215    253\n",
      "(6.234, 7.914]     7.121807   6.235   7.905    476\n",
      "(7.914, 9.594]     8.761867   7.930   9.500    450\n",
      "(9.594, 11.273]   10.344917   9.600  11.150    362\n",
      "(11.273, 12.952]  12.081635  11.300  12.850    419\n",
      "(12.952, 14.632]  13.716193  13.000  14.600    352\n",
      "(14.632, 16.312]  15.495976  14.650  16.250    410\n",
      "(16.312, 17.991]  17.172672  16.350  17.850    408\n",
      "(17.991, 19.671]  18.838005  18.000  19.600    396\n",
      "(19.671, 21.35]   20.357012  19.700  21.350    328\n"
     ]
    },
    {
     "name": "stderr",
     "output_type": "stream",
     "text": [
      "C:\\Users\\47408\\AppData\\Local\\Temp\\ipykernel_11124\\4156194491.py:5: FutureWarning: The default of observed=False is deprecated and will be changed to True in a future version of pandas. Pass observed=False to retain current behavior or observed=True to adopt the future default and silence this warning.\n",
      "  bucket_analysis = Grc_Concat_df.groupby('Buckets')['Item_Weight'].agg(['mean', 'min', 'max', 'count'])\n"
     ]
    }
   ],
   "source": [
    "# Create buckets\n",
    "Grc_Concat_df['Buckets'] = pd.cut(Grc_Concat_df['Item_Weight'], bins=10)\n",
    "\n",
    "# Group by the buckets and calculate mean, min, max and count\n",
    "bucket_analysis = Grc_Concat_df.groupby('Buckets')['Item_Weight'].agg(['mean', 'min', 'max', 'count'])\n",
    "\n",
    "# Print the result\n",
    "print(bucket_analysis)"
   ]
  }
 ],
 "metadata": {
  "kernelspec": {
   "display_name": "dave3625",
   "language": "python",
   "name": "python3"
  },
  "language_info": {
   "codemirror_mode": {
    "name": "ipython",
    "version": 3
   },
   "file_extension": ".py",
   "mimetype": "text/x-python",
   "name": "python",
   "nbconvert_exporter": "python",
   "pygments_lexer": "ipython3",
   "version": "3.9.20"
  }
 },
 "nbformat": 4,
 "nbformat_minor": 2
}
